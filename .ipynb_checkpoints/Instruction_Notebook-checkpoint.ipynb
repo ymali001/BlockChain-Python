{
 "cells": [
  {
   "cell_type": "markdown",
   "id": "phantom-claim",
   "metadata": {},
   "source": [
    "## First try"
   ]
  },
  {
   "cell_type": "code",
   "execution_count": 26,
   "id": "wireless-jewelry",
   "metadata": {},
   "outputs": [
    {
     "data": {
      "text/plain": [
       "['',\n",
       " '+-----------------+------------------------------------+------------------------------------------------------+--------------------------------------------------------------------+',\n",
       " '| path            | address                            | privkey                                              | pubkey                                                             |',\n",
       " '+-----------------+------------------------------------+------------------------------------------------------+--------------------------------------------------------------------+',\n",
       " \"| m/44'/0'/0'/0/0 | 1NDtFefQkuUtdrAStTFRpPvgrn1Qib5pvZ | L2SjCMBxEMqYR8QMfYPuXsBrqkA6w2NDfzk1tAkrDZbSmySsdkJ2 | 0300b2815d765fb7a18e751aae57f14028596c7259f9118fbacd8ca704262389b8 |\",\n",
       " \"| m/44'/0'/0'/0/1 | 16WJLXbc5rMdxgQsATkDxsWWaGMPUxKpyb | L5DiuQKtkYaMHJ2RVtRajnaeffqNJ6zg1ZhFeT2nn9KSVnViS777 | 03385b74956841016f9a549e6112b5cadc1d88486453fdb6849c02aba827461e71 |\",\n",
       " \"| m/44'/0'/0'/0/2 | 1Gmh2FmdWDbGgYJYnYS4S5j8QQbjeaMc3y | KznxPSXnZTSJ5ZAKq4pVwqVCdZT1WtQoKCkA8UbvQ72Qt19hgoTj | 038522eb2edb6201e720d5cb5eefd576132e37573e1d6a9f4c9cdaa2d8520d3a1b |\",\n",
       " \"| m/44'/0'/0'/0/3 | 1FxPYZhCiemFu9wqaZmyZZCZvEbHqrZKq4 | Kzhg3SASEZEsgZxebXqgrJMAsX8pwzwqp6vSwMXJhgSGin3Ec7ee | 024fb826b27415da9a72cadcb69c2ee6f1ab03d1e3ddfb094d7dadbfa44f2cb7af |\",\n",
       " \"| m/44'/0'/0'/0/4 | 197TfywzBMYZfzMfMv4ahMS5AroEnEHyRZ | L1EnnbTeQN4VoK4dgoH6WDgvnWaoAYxySWrqN61svHKRxP9nnX5r | 03b1bb5f027bbb125ff20e138ea5d13f147a1b1408b46248cd352794634ddab2d6 |\",\n",
       " \"| m/44'/0'/0'/0/5 | 1HvD91UXoPkCy8Qw6W8Aqfsrshi1r2ZGWc | KwuJK4ZuSp99NxBgenzRoxkrEctFQAWRmPwSDJh7fMwMMU2xBMLm | 03aac98f75cb03f92bc206530e373e003547220565d85f8087e6f9c2804c14f0af |\",\n",
       " \"| m/44'/0'/0'/0/6 | 1DrzrPt2dLWzytRV24WMCZgjbn45r378uc | L4UGhSrwJ6rQKnAkmvpVNnaDGYadkVdeo5SeZi5hoWgUBxCvQqAH | 03fd24a3aee183b7a68b328b65a638fbda89d9f92a20a3054ba6357141cc25c58c |\",\n",
       " \"| m/44'/0'/0'/0/7 | 1F8eCp6UZJiqkv7QXNWLmYbWwgUBigJu1a | L18c84H3eSq9XbhXbrwsdDDP1fqzFueshstpxFxXVuDuWZ2U2Ruy | 02d50402c27b377eb4832e7edad54ab4aafa7d96b43f5e8ae625fc627f8bb07629 |\",\n",
       " \"| m/44'/0'/0'/0/8 | 1EMcmvEzQBnrj91v3a1omHWVhtBR4rfQWQ | Ky9QTfvbiW62RiFgcMFRsZGxu1H72pWBXsSBsuMAZfBLLjcYzUJ6 | 03238f149198f5e9396426f2e329d7eddda141a4c06bf1c623347150901df665c5 |\",\n",
       " \"| m/44'/0'/0'/0/9 | 1BN3XnBnQ8tsxux7FSGUW5o21VD6NV8HXH | L546NYs9ofHhLKdEK77jGdaLZzRAhdmDxKMef54auqEoXgF5aQEd | 029e1bef0924adfc1e8057291eec7f4169b312bff43a4a27286c26265a31a8d9ae |\",\n",
       " '+-----------------+------------------------------------+------------------------------------------------------+--------------------------------------------------------------------+',\n",
       " '']"
      ]
     },
     "execution_count": 26,
     "metadata": {},
     "output_type": "execute_result"
    }
   ],
   "source": [
    "# Mac users\n",
    "# p = !.\\hd-wallet-derive.php -g --mnemonic=\"Your Nmemonic\" --cols=path,address,privkey,pubkey\n",
    "\n",
    "# Windows Users\n",
    "p = !php hd-wallet-derive.php -g --mnemonic=\"Your Nmemonic\" --cols=path,address,privkey,pubkey\n",
    "p"
   ]
  },
  {
   "cell_type": "markdown",
   "id": "minute-cancer",
   "metadata": {},
   "source": [
    "## Second Try"
   ]
  },
  {
   "cell_type": "code",
   "execution_count": 27,
   "id": "ordered-caution",
   "metadata": {},
   "outputs": [],
   "source": [
    "capture = !php hd-wallet-derive.php -g --mnemonic=\"Your Nmemonic\" --cols=path,address,privkey,pubkey --format=json"
   ]
  },
  {
   "cell_type": "code",
   "execution_count": 28,
   "id": "instructional-camel",
   "metadata": {},
   "outputs": [
    {
     "data": {
      "text/plain": [
       "['',\n",
       " '[{\"path\":\"m\\\\/44\\'\\\\/0\\'\\\\/0\\'\\\\/0\\\\/0\",\"address\":\"1NDtFefQkuUtdrAStTFRpPvgrn1Qib5pvZ\",\"privkey\":\"L2SjCMBxEMqYR8QMfYPuXsBrqkA6w2NDfzk1tAkrDZbSmySsdkJ2\",\"pubkey\":\"0300b2815d765fb7a18e751aae57f14028596c7259f9118fbacd8ca704262389b8\"},{\"path\":\"m\\\\/44\\'\\\\/0\\'\\\\/0\\'\\\\/0\\\\/1\",\"address\":\"16WJLXbc5rMdxgQsATkDxsWWaGMPUxKpyb\",\"privkey\":\"L5DiuQKtkYaMHJ2RVtRajnaeffqNJ6zg1ZhFeT2nn9KSVnViS777\",\"pubkey\":\"03385b74956841016f9a549e6112b5cadc1d88486453fdb6849c02aba827461e71\"},{\"path\":\"m\\\\/44\\'\\\\/0\\'\\\\/0\\'\\\\/0\\\\/2\",\"address\":\"1Gmh2FmdWDbGgYJYnYS4S5j8QQbjeaMc3y\",\"privkey\":\"KznxPSXnZTSJ5ZAKq4pVwqVCdZT1WtQoKCkA8UbvQ72Qt19hgoTj\",\"pubkey\":\"038522eb2edb6201e720d5cb5eefd576132e37573e1d6a9f4c9cdaa2d8520d3a1b\"},{\"path\":\"m\\\\/44\\'\\\\/0\\'\\\\/0\\'\\\\/0\\\\/3\",\"address\":\"1FxPYZhCiemFu9wqaZmyZZCZvEbHqrZKq4\",\"privkey\":\"Kzhg3SASEZEsgZxebXqgrJMAsX8pwzwqp6vSwMXJhgSGin3Ec7ee\",\"pubkey\":\"024fb826b27415da9a72cadcb69c2ee6f1ab03d1e3ddfb094d7dadbfa44f2cb7af\"},{\"path\":\"m\\\\/44\\'\\\\/0\\'\\\\/0\\'\\\\/0\\\\/4\",\"address\":\"197TfywzBMYZfzMfMv4ahMS5AroEnEHyRZ\",\"privkey\":\"L1EnnbTeQN4VoK4dgoH6WDgvnWaoAYxySWrqN61svHKRxP9nnX5r\",\"pubkey\":\"03b1bb5f027bbb125ff20e138ea5d13f147a1b1408b46248cd352794634ddab2d6\"},{\"path\":\"m\\\\/44\\'\\\\/0\\'\\\\/0\\'\\\\/0\\\\/5\",\"address\":\"1HvD91UXoPkCy8Qw6W8Aqfsrshi1r2ZGWc\",\"privkey\":\"KwuJK4ZuSp99NxBgenzRoxkrEctFQAWRmPwSDJh7fMwMMU2xBMLm\",\"pubkey\":\"03aac98f75cb03f92bc206530e373e003547220565d85f8087e6f9c2804c14f0af\"},{\"path\":\"m\\\\/44\\'\\\\/0\\'\\\\/0\\'\\\\/0\\\\/6\",\"address\":\"1DrzrPt2dLWzytRV24WMCZgjbn45r378uc\",\"privkey\":\"L4UGhSrwJ6rQKnAkmvpVNnaDGYadkVdeo5SeZi5hoWgUBxCvQqAH\",\"pubkey\":\"03fd24a3aee183b7a68b328b65a638fbda89d9f92a20a3054ba6357141cc25c58c\"},{\"path\":\"m\\\\/44\\'\\\\/0\\'\\\\/0\\'\\\\/0\\\\/7\",\"address\":\"1F8eCp6UZJiqkv7QXNWLmYbWwgUBigJu1a\",\"privkey\":\"L18c84H3eSq9XbhXbrwsdDDP1fqzFueshstpxFxXVuDuWZ2U2Ruy\",\"pubkey\":\"02d50402c27b377eb4832e7edad54ab4aafa7d96b43f5e8ae625fc627f8bb07629\"},{\"path\":\"m\\\\/44\\'\\\\/0\\'\\\\/0\\'\\\\/0\\\\/8\",\"address\":\"1EMcmvEzQBnrj91v3a1omHWVhtBR4rfQWQ\",\"privkey\":\"Ky9QTfvbiW62RiFgcMFRsZGxu1H72pWBXsSBsuMAZfBLLjcYzUJ6\",\"pubkey\":\"03238f149198f5e9396426f2e329d7eddda141a4c06bf1c623347150901df665c5\"},{\"path\":\"m\\\\/44\\'\\\\/0\\'\\\\/0\\'\\\\/0\\\\/9\",\"address\":\"1BN3XnBnQ8tsxux7FSGUW5o21VD6NV8HXH\",\"privkey\":\"L546NYs9ofHhLKdEK77jGdaLZzRAhdmDxKMef54auqEoXgF5aQEd\",\"pubkey\":\"029e1bef0924adfc1e8057291eec7f4169b312bff43a4a27286c26265a31a8d9ae\"}]']"
      ]
     },
     "execution_count": 28,
     "metadata": {},
     "output_type": "execute_result"
    }
   ],
   "source": [
    "capture"
   ]
  },
  {
   "cell_type": "code",
   "execution_count": 29,
   "id": "proud-consistency",
   "metadata": {},
   "outputs": [
    {
     "data": {
      "text/plain": [
       "[{'path': \"m/44'/0'/0'/0/0\",\n",
       "  'address': '1NDtFefQkuUtdrAStTFRpPvgrn1Qib5pvZ',\n",
       "  'privkey': 'L2SjCMBxEMqYR8QMfYPuXsBrqkA6w2NDfzk1tAkrDZbSmySsdkJ2',\n",
       "  'pubkey': '0300b2815d765fb7a18e751aae57f14028596c7259f9118fbacd8ca704262389b8'},\n",
       " {'path': \"m/44'/0'/0'/0/1\",\n",
       "  'address': '16WJLXbc5rMdxgQsATkDxsWWaGMPUxKpyb',\n",
       "  'privkey': 'L5DiuQKtkYaMHJ2RVtRajnaeffqNJ6zg1ZhFeT2nn9KSVnViS777',\n",
       "  'pubkey': '03385b74956841016f9a549e6112b5cadc1d88486453fdb6849c02aba827461e71'},\n",
       " {'path': \"m/44'/0'/0'/0/2\",\n",
       "  'address': '1Gmh2FmdWDbGgYJYnYS4S5j8QQbjeaMc3y',\n",
       "  'privkey': 'KznxPSXnZTSJ5ZAKq4pVwqVCdZT1WtQoKCkA8UbvQ72Qt19hgoTj',\n",
       "  'pubkey': '038522eb2edb6201e720d5cb5eefd576132e37573e1d6a9f4c9cdaa2d8520d3a1b'},\n",
       " {'path': \"m/44'/0'/0'/0/3\",\n",
       "  'address': '1FxPYZhCiemFu9wqaZmyZZCZvEbHqrZKq4',\n",
       "  'privkey': 'Kzhg3SASEZEsgZxebXqgrJMAsX8pwzwqp6vSwMXJhgSGin3Ec7ee',\n",
       "  'pubkey': '024fb826b27415da9a72cadcb69c2ee6f1ab03d1e3ddfb094d7dadbfa44f2cb7af'},\n",
       " {'path': \"m/44'/0'/0'/0/4\",\n",
       "  'address': '197TfywzBMYZfzMfMv4ahMS5AroEnEHyRZ',\n",
       "  'privkey': 'L1EnnbTeQN4VoK4dgoH6WDgvnWaoAYxySWrqN61svHKRxP9nnX5r',\n",
       "  'pubkey': '03b1bb5f027bbb125ff20e138ea5d13f147a1b1408b46248cd352794634ddab2d6'},\n",
       " {'path': \"m/44'/0'/0'/0/5\",\n",
       "  'address': '1HvD91UXoPkCy8Qw6W8Aqfsrshi1r2ZGWc',\n",
       "  'privkey': 'KwuJK4ZuSp99NxBgenzRoxkrEctFQAWRmPwSDJh7fMwMMU2xBMLm',\n",
       "  'pubkey': '03aac98f75cb03f92bc206530e373e003547220565d85f8087e6f9c2804c14f0af'},\n",
       " {'path': \"m/44'/0'/0'/0/6\",\n",
       "  'address': '1DrzrPt2dLWzytRV24WMCZgjbn45r378uc',\n",
       "  'privkey': 'L4UGhSrwJ6rQKnAkmvpVNnaDGYadkVdeo5SeZi5hoWgUBxCvQqAH',\n",
       "  'pubkey': '03fd24a3aee183b7a68b328b65a638fbda89d9f92a20a3054ba6357141cc25c58c'},\n",
       " {'path': \"m/44'/0'/0'/0/7\",\n",
       "  'address': '1F8eCp6UZJiqkv7QXNWLmYbWwgUBigJu1a',\n",
       "  'privkey': 'L18c84H3eSq9XbhXbrwsdDDP1fqzFueshstpxFxXVuDuWZ2U2Ruy',\n",
       "  'pubkey': '02d50402c27b377eb4832e7edad54ab4aafa7d96b43f5e8ae625fc627f8bb07629'},\n",
       " {'path': \"m/44'/0'/0'/0/8\",\n",
       "  'address': '1EMcmvEzQBnrj91v3a1omHWVhtBR4rfQWQ',\n",
       "  'privkey': 'Ky9QTfvbiW62RiFgcMFRsZGxu1H72pWBXsSBsuMAZfBLLjcYzUJ6',\n",
       "  'pubkey': '03238f149198f5e9396426f2e329d7eddda141a4c06bf1c623347150901df665c5'},\n",
       " {'path': \"m/44'/0'/0'/0/9\",\n",
       "  'address': '1BN3XnBnQ8tsxux7FSGUW5o21VD6NV8HXH',\n",
       "  'privkey': 'L546NYs9ofHhLKdEK77jGdaLZzRAhdmDxKMef54auqEoXgF5aQEd',\n",
       "  'pubkey': '029e1bef0924adfc1e8057291eec7f4169b312bff43a4a27286c26265a31a8d9ae'}]"
      ]
     },
     "execution_count": 29,
     "metadata": {},
     "output_type": "execute_result"
    }
   ],
   "source": [
    "## Transform to consumable JSON\n",
    "import json\n",
    "keys = json.loads(capture[1])\n",
    "keys"
   ]
  },
  {
   "cell_type": "code",
   "execution_count": 30,
   "id": "pregnant-burton",
   "metadata": {},
   "outputs": [
    {
     "name": "stdout",
     "output_type": "stream",
     "text": [
      "1NDtFefQkuUtdrAStTFRpPvgrn1Qib5pvZ\n"
     ]
    }
   ],
   "source": [
    "print(keys[0]['address'])"
   ]
  },
  {
   "cell_type": "code",
   "execution_count": null,
   "id": "covered-stupid",
   "metadata": {},
   "outputs": [],
   "source": []
  }
 ],
 "metadata": {
  "kernelspec": {
   "display_name": "Python [conda env:.conda-ethereum]",
   "language": "python",
   "name": "conda-env-.conda-ethereum-py"
  },
  "language_info": {
   "codemirror_mode": {
    "name": "ipython",
    "version": 3
   },
   "file_extension": ".py",
   "mimetype": "text/x-python",
   "name": "python",
   "nbconvert_exporter": "python",
   "pygments_lexer": "ipython3",
   "version": "3.7.9"
  }
 },
 "nbformat": 4,
 "nbformat_minor": 5
}
