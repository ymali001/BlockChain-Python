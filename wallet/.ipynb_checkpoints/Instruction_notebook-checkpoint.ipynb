{
 "cells": [
  {
   "cell_type": "markdown",
   "metadata": {},
   "source": [
    "## Initial Code - Check Balances"
   ]
  },
  {
   "cell_type": "code",
   "execution_count": 20,
   "metadata": {},
   "outputs": [],
   "source": [
    "from web3 import Web3\n",
    "from decimal import Decimal\n",
    "w3 = Web3(Web3.HTTPProvider(\"http://127.0.0.1:8545\"))"
   ]
  },
  {
   "cell_type": "code",
   "execution_count": 23,
   "metadata": {},
   "outputs": [
    {
     "data": {
      "text/plain": [
       "1684"
      ]
     },
     "execution_count": 23,
     "metadata": {},
     "output_type": "execute_result"
    }
   ],
   "source": [
    "w3.eth.blockNumber"
   ]
  },
  {
   "cell_type": "code",
   "execution_count": 25,
   "metadata": {},
   "outputs": [
    {
     "data": {
      "text/plain": [
       "904625697166532776746648320380374280103671755200316904580275902061821323326"
      ]
     },
     "execution_count": 25,
     "metadata": {},
     "output_type": "execute_result"
    }
   ],
   "source": [
    "## Show it in the Terminal 1\n",
    "## let's show balance of prefunded account\n",
    "## To reach extra safety, add the Web3.toChecksumAddress\n",
    "w3.eth.getBalance(Web3.toChecksumAddress(\"0xe70748c14330d76f67f1250062bf85df50c3f443\"))"
   ]
  },
  {
   "cell_type": "code",
   "execution_count": 26,
   "metadata": {},
   "outputs": [
    {
     "data": {
      "text/plain": [
       "3394000525000000000000"
      ]
     },
     "execution_count": 26,
     "metadata": {},
     "output_type": "execute_result"
    }
   ],
   "source": [
    "## Check balances of mining node (put mining node address)\n",
    "w3.eth.getBalance(\"0xDc104E33686c8bf5964657c677ca0C231abe184F\")"
   ]
  },
  {
   "cell_type": "code",
   "execution_count": 33,
   "metadata": {},
   "outputs": [
    {
     "data": {
      "text/plain": [
       "Decimal('4354.000525')"
      ]
     },
     "execution_count": 33,
     "metadata": {},
     "output_type": "execute_result"
    }
   ],
   "source": [
    "## Convert to Ether\n",
    "w3.fromWei(w3.eth.getBalance(\"0xDc104E33686c8bf5964657c677ca0C231abe184F\"), 'ether')"
   ]
  },
  {
   "cell_type": "markdown",
   "metadata": {},
   "source": [
    "## Use Private Keys to connect"
   ]
  },
  {
   "cell_type": "code",
   "execution_count": 7,
   "metadata": {},
   "outputs": [],
   "source": [
    "from web3 import Web3\n",
    "w3 = Web3(Web3.HTTPProvider(\"http://127.0.0.1:8545\"))\n",
    "\n",
    "# w3.eth.getBalance(Web3.toChecksumAddress(\"0xe70748c14330d76f67f1250062bf85df50c3f443\"))\n",
    "\n",
    "private_key = \"your key\" ## DON'T DO THIS\n",
    "\n",
    "## Problems with this code??"
   ]
  },
  {
   "cell_type": "code",
   "execution_count": 28,
   "metadata": {},
   "outputs": [
    {
     "name": "stdout",
     "output_type": "stream",
     "text": [
      "Requirement already satisfied: python-dotenv in c:\\users\\penpe\\.conda\\envs\\ethereum\\lib\\site-packages (0.17.0)\n"
     ]
    }
   ],
   "source": [
    "!pip install python-dotenv"
   ]
  },
  {
   "cell_type": "code",
   "execution_count": 30,
   "metadata": {},
   "outputs": [],
   "source": [
    "## Use Environmental Variables!\n",
    "## Install pip install python-dotenv!\n",
    "import os\n",
    "from web3 import Web3\n",
    "from dotenv import load_dotenv\n",
    "\n",
    "load_dotenv(\"api.env\")\n",
    "\n",
    "w3 = Web3(Web3.HTTPProvider(\"http://127.0.0.1:8545\"))\n",
    "\n",
    "private_key = os.getenv(\"PRIVATE_KEY\")\n",
    "\n",
    "# print(private_key)\n",
    "# Only print for verification purposes, don't leave it in the code"
   ]
  },
  {
   "cell_type": "markdown",
   "metadata": {},
   "source": [
    "## Send Transactions using Python"
   ]
  },
  {
   "cell_type": "code",
   "execution_count": 9,
   "metadata": {},
   "outputs": [],
   "source": [
    "import os\n",
    "from web3 import Web3\n",
    "from dotenv import load_dotenv\n",
    "from eth_account import Account"
   ]
  },
  {
   "cell_type": "code",
   "execution_count": 32,
   "metadata": {},
   "outputs": [
    {
     "name": "stdout",
     "output_type": "stream",
     "text": [
      "0xE70748c14330d76F67f1250062Bf85df50C3f443\n"
     ]
    }
   ],
   "source": [
    "load_dotenv(\"api.env\")\n",
    "\n",
    "w3 = Web3(Web3.HTTPProvider(\"http://127.0.0.1:8545\"))\n",
    "private_key = os.getenv(\"PRIVATE_KEY\")\n",
    "\n",
    "account_one = Account.from_key(private_key)\n",
    "print(account_one.address)"
   ]
  },
  {
   "cell_type": "code",
   "execution_count": 34,
   "metadata": {},
   "outputs": [],
   "source": [
    "## Create functions to use\n",
    "def create_raw_tx(account, recipient, amount):\n",
    "    ## Transform the amount from Ether to wei\n",
    "    amount = w3.toWei(Decimal(amount), 'ether')\n",
    "    gasEstimate = w3.eth.estimateGas(\n",
    "        {\"from\": account.address, \"to\": recipient, \"value\": amount}\n",
    "    )\n",
    "    return {\n",
    "        \"from\": account.address,\n",
    "        \"to\": recipient,\n",
    "        \"value\": amount,\n",
    "        \"gasPrice\": w3.eth.gasPrice,\n",
    "        \"gas\": gasEstimate,\n",
    "        \"nonce\": w3.eth.getTransactionCount(account.address),\n",
    "        \"chainId\": 2014 # Add to the instructions\n",
    "    }\n",
    "\n",
    "def send_tx(account, recipient, amount):\n",
    "    tx = create_raw_tx(account, recipient, amount)\n",
    "    signed_tx = account.sign_transaction(tx)\n",
    "    result = w3.eth.sendRawTransaction(signed_tx.rawTransaction)\n",
    "    print(result.hex())\n",
    "    return result.hex()    "
   ]
  },
  {
   "cell_type": "code",
   "execution_count": 35,
   "metadata": {},
   "outputs": [
    {
     "name": "stdout",
     "output_type": "stream",
     "text": [
      "0x8ae17631083c2bb1eda8f41347aaa07a027110146e01c74cd4b8c3ec96e7f0cc\n"
     ]
    },
    {
     "data": {
      "text/plain": [
       "'0x8ae17631083c2bb1eda8f41347aaa07a027110146e01c74cd4b8c3ec96e7f0cc'"
      ]
     },
     "execution_count": 35,
     "metadata": {},
     "output_type": "execute_result"
    }
   ],
   "source": [
    "## Send crypto to new account\n",
    "send_tx(account_one, \"0x8153c18b401A064cCf2E5079CEe4382Be21e8C18\", 1986)"
   ]
  },
  {
   "cell_type": "code",
   "execution_count": 36,
   "metadata": {},
   "outputs": [
    {
     "data": {
      "text/plain": [
       "AttributeDict({'blockHash': HexBytes('0x155ff1b9e4f7618eae3bca9cb3c396d8aff92d935095e4e8fb69e47c6df53840'),\n",
       " 'blockNumber': 2206,\n",
       " 'contractAddress': None,\n",
       " 'cumulativeGasUsed': 21000,\n",
       " 'from': '0xE70748c14330d76F67f1250062Bf85df50C3f443',\n",
       " 'gasUsed': 21000,\n",
       " 'logs': [],\n",
       " 'logsBloom': HexBytes('0x00000000000000000000000000000000000000000000000000000000000000000000000000000000000000000000000000000000000000000000000000000000000000000000000000000000000000000000000000000000000000000000000000000000000000000000000000000000000000000000000000000000000000000000000000000000000000000000000000000000000000000000000000000000000000000000000000000000000000000000000000000000000000000000000000000000000000000000000000000000000000000000000000000000000000000000000000000000000000000000000000000000000000000000000000000000'),\n",
       " 'status': 1,\n",
       " 'to': '0x8153c18b401A064cCf2E5079CEe4382Be21e8C18',\n",
       " 'transactionHash': HexBytes('0x8ae17631083c2bb1eda8f41347aaa07a027110146e01c74cd4b8c3ec96e7f0cc'),\n",
       " 'transactionIndex': 0,\n",
       " 'type': '0x0'})"
      ]
     },
     "execution_count": 36,
     "metadata": {},
     "output_type": "execute_result"
    }
   ],
   "source": [
    "## Check success\n",
    "w3.eth.getTransactionReceipt(\"0x8ae17631083c2bb1eda8f41347aaa07a027110146e01c74cd4b8c3ec96e7f0cc\")"
   ]
  },
  {
   "cell_type": "markdown",
   "metadata": {},
   "source": [
    "## Sending transactions within accounts"
   ]
  },
  {
   "cell_type": "code",
   "execution_count": 5,
   "metadata": {},
   "outputs": [
    {
     "name": "stdin",
     "output_type": "stream",
     "text": [
      "Enter keystore password:  ············\n"
     ]
    }
   ],
   "source": [
    "import os\n",
    "from web3 import Web3\n",
    "from dotenv import load_dotenv\n",
    "from web3.middleware import geth_poa_middleware\n",
    "from eth_account import Account\n",
    "\n",
    "from pathlib import Path\n",
    "from getpass import getpass\n",
    "\n",
    "load_dotenv('api.env')\n",
    "\n",
    "w3 = Web3(Web3.HTTPProvider(\"http://127.0.0.1:8545\"))\n",
    "w3.middleware_onion.inject(geth_poa_middleware, layer=0)\n",
    "\n",
    "account_one = Account.from_key(os.getenv(\"PRIVATE_KEY\"))\n",
    "\n",
    "with open(\n",
    "    Path(\n",
    "        \"UTC--2021-04-24T02-44-12.817Z--8153c18b401a064ccf2e5079cee4382be21e8c18\"\n",
    "    )\n",
    ") as keyfile:\n",
    "    encrypted_key = keyfile.read()\n",
    "    private_key = w3.eth.account.decrypt(\n",
    "        encrypted_key, getpass(\"Enter keystore password: \")\n",
    "    )\n",
    "    account_two = Account.from_key(private_key)\n",
    "\n",
    "def create_raw_tx(account, recipient, amount):\n",
    "    gasEstimate = w3.eth.estimateGas(\n",
    "        {\"from\": account.address, \"to\": recipient, \"value\": amount}\n",
    "    )\n",
    "    return {\n",
    "        \"chainId\": 2014,\n",
    "        \"from\": account.address,\n",
    "        \"to\": recipient,\n",
    "        \"value\": amount,\n",
    "        \"gasPrice\": w3.eth.gasPrice,\n",
    "        \"gas\": gasEstimate,\n",
    "        \"nonce\": w3.eth.getTransactionCount(account.address),\n",
    "    }\n",
    "\n",
    "\n",
    "def send_tx(account, recipient, amount):\n",
    "    tx = create_raw_tx(account, recipient, amount)\n",
    "    signed_tx = account.sign_transaction(tx)\n",
    "    result = w3.eth.sendRawTransaction(signed_tx.rawTransaction)\n",
    "    print(result.hex())\n",
    "    return result.hex()"
   ]
  },
  {
   "cell_type": "code",
   "execution_count": 6,
   "metadata": {},
   "outputs": [
    {
     "name": "stdout",
     "output_type": "stream",
     "text": [
      "0x8153c18b401A064cCf2E5079CEe4382Be21e8C18\n"
     ]
    }
   ],
   "source": [
    "print(account_two.address)"
   ]
  },
  {
   "cell_type": "code",
   "execution_count": 9,
   "metadata": {},
   "outputs": [
    {
     "name": "stdout",
     "output_type": "stream",
     "text": [
      "0xbc0539a01ab1da702a87182228bbf9f8596dbdc41ad5977c4edb04c33c9d9354\n"
     ]
    },
    {
     "data": {
      "text/plain": [
       "'0xbc0539a01ab1da702a87182228bbf9f8596dbdc41ad5977c4edb04c33c9d9354'"
      ]
     },
     "execution_count": 9,
     "metadata": {},
     "output_type": "execute_result"
    }
   ],
   "source": [
    "send_tx(account_two, account_one.address, 10000000000000000000)"
   ]
  },
  {
   "cell_type": "code",
   "execution_count": 10,
   "metadata": {},
   "outputs": [
    {
     "data": {
      "text/plain": [
       "AttributeDict({'blockHash': HexBytes('0xebfcd1016f3c49bc49a9c1ccd7eb48a04c946ff90f08c9f57834008e220e0ac3'),\n",
       " 'blockNumber': 397,\n",
       " 'from': '0x8153c18b401A064cCf2E5079CEe4382Be21e8C18',\n",
       " 'gas': 21000,\n",
       " 'gasPrice': 1000000000,\n",
       " 'hash': HexBytes('0xbc0539a01ab1da702a87182228bbf9f8596dbdc41ad5977c4edb04c33c9d9354'),\n",
       " 'input': '0x',\n",
       " 'nonce': 1,\n",
       " 'to': '0xE70748c14330d76F67f1250062Bf85df50C3f443',\n",
       " 'transactionIndex': 0,\n",
       " 'value': 10000000000000000000,\n",
       " 'type': '0x0',\n",
       " 'v': 4064,\n",
       " 'r': HexBytes('0x859a2135a3ab3721d5c48f57f155726f20cb5b259534654dd706294504e5423d'),\n",
       " 's': HexBytes('0x2d6c82c9c68a1fd90b212d715258d2df89ca6a99259071506e61fd33bf683e67')})"
      ]
     },
     "execution_count": 10,
     "metadata": {},
     "output_type": "execute_result"
    }
   ],
   "source": [
    "w3.eth.getTransaction('0xbc0539a01ab1da702a87182228bbf9f8596dbdc41ad5977c4edb04c33c9d9354')"
   ]
  },
  {
   "cell_type": "code",
   "execution_count": null,
   "metadata": {},
   "outputs": [],
   "source": []
  }
 ],
 "metadata": {
  "kernelspec": {
   "display_name": "Python 3",
   "language": "python",
   "name": "python3"
  },
  "language_info": {
   "codemirror_mode": {
    "name": "ipython",
    "version": 3
   },
   "file_extension": ".py",
   "mimetype": "text/x-python",
   "name": "python",
   "nbconvert_exporter": "python",
   "pygments_lexer": "ipython3",
   "version": "3.7.9"
  }
 },
 "nbformat": 4,
 "nbformat_minor": 5
}
